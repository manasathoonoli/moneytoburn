{
 "cells": [
  {
   "cell_type": "code",
   "execution_count": null,
   "metadata": {},
   "outputs": [],
   "source": [
    "# In order to run the code in this notebook please run the following commands to install all modules needed to run this code\n",
    "\n",
    "#pip install wheel\n",
    "#pip install pipwin\n",
    "#pipwin install numpy\n",
    "#pipwin install pandas\n",
    "#pipwin install shapely\n",
    "#pipwin install gdal\n",
    "#pipwin install fiona\n",
    "#pipwin install pyproj\n",
    "#pipwin install six\n",
    "#pipwin install rtree\n",
    "#pipwin install geopandas\n",
    "\n",
    "#pip install matplotlib\n",
    "#pip install descartes\n",
    "#pip install mapclassify\n",
    "#pip install Image"
   ]
  },
  {
   "cell_type": "code",
   "execution_count": null,
   "metadata": {},
   "outputs": [],
   "source": [
    "import pandas as pd # reads revenue file\n",
    "import matplotlib.pyplot as plt # for plotting\n",
    "import geopandas as gpd # to read shape file for rending maps"
   ]
  },
  {
   "cell_type": "code",
   "execution_count": null,
   "metadata": {},
   "outputs": [],
   "source": [
    "world = gpd.read_file(gpd.datasets.get_path('naturalearth_lowres'))\n",
    "wealth = pd.read_csv(\"meanwealthperadultbycountryinUSdollars.csv\")"
   ]
  },
  {
   "cell_type": "code",
   "execution_count": null,
   "metadata": {},
   "outputs": [],
   "source": [
    "for_plotting = world.merge(wealth, left_on='iso_a3', right_on='CountryCode')"
   ]
  },
  {
   "cell_type": "code",
   "execution_count": null,
   "metadata": {
    "scrolled": true
   },
   "outputs": [],
   "source": [
    "ax = for_plotting.dropna().plot(column='meanWealthInDollar',cmap='YlGnBu',figsize=(60, 20),scheme='quantiles',k=20,legend=True)\n",
    "ax.set_axis_off()\n",
    "ax.get_legend().set_bbox_to_anchor((.12, .12))\n",
    "plt.savefig('heatmap.jpg',bbox_inches='tight', pad_inches=0)\n"
   ]
  },
  {
   "cell_type": "code",
   "execution_count": null,
   "metadata": {},
   "outputs": [],
   "source": [
    "# overlay images\n",
    "from PIL import Image\n",
    "pollution = Image.open('global_pollutionsmallersmallleftright.jpg')\n",
    "heatmap = Image.open('heatmap.jpg')\n",
    "# dimensions of heatmap are modified to match that of gloabl pollution to allow for image to be overlaied\n",
    "# Global pollution image's dimensions where obtained - hence the hard coded value\n",
    "heatmap = heatmap.resize((4148,2160))\n",
    "\n",
    "pollution = pollution.convert('RGBA')\n",
    "heatmap = heatmap.convert('RGBA')\n",
    "\n",
    "\n",
    "new_img = Image.blend(pollution, heatmap, 0.5)\n",
    "new_img.save('overlayimage13.png', \"PNG\")\n"
   ]
  }
 ],
 "metadata": {
  "kernelspec": {
   "display_name": "Python 3",
   "language": "python",
   "name": "python3"
  },
  "language_info": {
   "codemirror_mode": {
    "name": "ipython",
    "version": 3
   },
   "file_extension": ".py",
   "mimetype": "text/x-python",
   "name": "python",
   "nbconvert_exporter": "python",
   "pygments_lexer": "ipython3",
   "version": "3.7.7"
  }
 },
 "nbformat": 4,
 "nbformat_minor": 4
}